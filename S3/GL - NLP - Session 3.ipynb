{
 "cells": [
  {
   "cell_type": "code",
   "execution_count": 2,
   "metadata": {},
   "outputs": [],
   "source": [
    "import pandas as pd\n",
    "import bs4\n",
    "#import selenium\n",
    "import requests\n",
    "import re"
   ]
  },
  {
   "cell_type": "code",
   "execution_count": 35,
   "metadata": {},
   "outputs": [
    {
     "data": {
      "text/plain": [
       "<html>\n",
       "<head>\n",
       "<title>Web scraping</title>\n",
       "</head>\n",
       "<body>\n",
       "<div class=\"student-details\">\n",
       "<p class=\"gl-jan\" data-gender=\"f\" id=\"student-10\"> ABC-1 </p>\n",
       "<p class=\"gl-jan\" data-gender=\"m\" id=\"student-11\"> ABC-2 </p>\n",
       "<p class=\"gl-jan\" data-gender=\"f\" id=\"student-12\"> ABC-3 </p>\n",
       "<p class=\"gl-jan\" data-gender=\"m\" id=\"student-13\"> ABC-4 </p>\n",
       "</div>\n",
       "</body>\n",
       "</html>"
      ]
     },
     "execution_count": 35,
     "metadata": {},
     "output_type": "execute_result"
    }
   ],
   "source": [
    "url = \"http://localhost:8000/students.html\"\n",
    "page = requests.get(url).text\n",
    "soup = bs4.BeautifulSoup(page)\n",
    "soup"
   ]
  },
  {
   "cell_type": "code",
   "execution_count": 36,
   "metadata": {},
   "outputs": [
    {
     "name": "stdout",
     "output_type": "stream",
     "text": [
      "<title>Web scraping</title>\n"
     ]
    }
   ],
   "source": [
    "print(soup.title)"
   ]
  },
  {
   "cell_type": "code",
   "execution_count": 37,
   "metadata": {},
   "outputs": [
    {
     "data": {
      "text/plain": [
       "'Web scraping'"
      ]
     },
     "execution_count": 37,
     "metadata": {},
     "output_type": "execute_result"
    }
   ],
   "source": [
    "soup.title.text"
   ]
  },
  {
   "cell_type": "code",
   "execution_count": 39,
   "metadata": {},
   "outputs": [
    {
     "data": {
      "text/plain": [
       "[<p class=\"gl-jan\" data-gender=\"f\" id=\"student-10\"> ABC-1 </p>,\n",
       " <p class=\"gl-jan\" data-gender=\"m\" id=\"student-11\"> ABC-2 </p>,\n",
       " <p class=\"gl-jan\" data-gender=\"f\" id=\"student-12\"> ABC-3 </p>,\n",
       " <p class=\"gl-jan\" data-gender=\"m\" id=\"student-13\"> ABC-4 </p>]"
      ]
     },
     "execution_count": 39,
     "metadata": {},
     "output_type": "execute_result"
    }
   ],
   "source": [
    "soup.findAll('p')"
   ]
  },
  {
   "cell_type": "code",
   "execution_count": 41,
   "metadata": {},
   "outputs": [
    {
     "data": {
      "text/html": [
       "<div>\n",
       "<style scoped>\n",
       "    .dataframe tbody tr th:only-of-type {\n",
       "        vertical-align: middle;\n",
       "    }\n",
       "\n",
       "    .dataframe tbody tr th {\n",
       "        vertical-align: top;\n",
       "    }\n",
       "\n",
       "    .dataframe thead th {\n",
       "        text-align: right;\n",
       "    }\n",
       "</style>\n",
       "<table border=\"1\" class=\"dataframe\">\n",
       "  <thead>\n",
       "    <tr style=\"text-align: right;\">\n",
       "      <th></th>\n",
       "      <th>gender</th>\n",
       "      <th>name</th>\n",
       "      <th>student_id</th>\n",
       "    </tr>\n",
       "  </thead>\n",
       "  <tbody>\n",
       "    <tr>\n",
       "      <th>0</th>\n",
       "      <td>f</td>\n",
       "      <td>ABC-1</td>\n",
       "      <td>student-10</td>\n",
       "    </tr>\n",
       "    <tr>\n",
       "      <th>1</th>\n",
       "      <td>m</td>\n",
       "      <td>ABC-2</td>\n",
       "      <td>student-11</td>\n",
       "    </tr>\n",
       "    <tr>\n",
       "      <th>2</th>\n",
       "      <td>f</td>\n",
       "      <td>ABC-3</td>\n",
       "      <td>student-12</td>\n",
       "    </tr>\n",
       "    <tr>\n",
       "      <th>3</th>\n",
       "      <td>m</td>\n",
       "      <td>ABC-4</td>\n",
       "      <td>student-13</td>\n",
       "    </tr>\n",
       "  </tbody>\n",
       "</table>\n",
       "</div>"
      ],
      "text/plain": [
       "  gender     name  student_id\n",
       "0      f   ABC-1   student-10\n",
       "1      m   ABC-2   student-11\n",
       "2      f   ABC-3   student-12\n",
       "3      m   ABC-4   student-13"
      ]
     },
     "execution_count": 41,
     "metadata": {},
     "output_type": "execute_result"
    }
   ],
   "source": [
    "tags = soup.findAll('p')\n",
    "df = pd.DataFrame()\n",
    "for tag in tags:\n",
    "    name = tag.text\n",
    "    student_id = tag.get('id')\n",
    "    gender = tag.get('data-gender')\n",
    "    temp = {\n",
    "        'name': name,\n",
    "        'student_id': student_id,\n",
    "        'gender': gender,\n",
    "    }\n",
    "    df = df.append(temp, ignore_index=True)\n",
    "df"
   ]
  },
  {
   "cell_type": "code",
   "execution_count": 44,
   "metadata": {},
   "outputs": [
    {
     "data": {
      "text/plain": [
       "[<p class=\"gl-jan\" data-gender=\"f\" id=\"student-10\"> ABC-1 </p>,\n",
       " <p class=\"gl-jan\" data-gender=\"m\" id=\"student-11\"> ABC-2 </p>,\n",
       " <p class=\"gl-jan\" data-gender=\"f\" id=\"student-12\"> ABC-3 </p>,\n",
       " <p class=\"gl-jan\" data-gender=\"m\" id=\"student-13\"> ABC-4 </p>]"
      ]
     },
     "execution_count": 44,
     "metadata": {},
     "output_type": "execute_result"
    }
   ],
   "source": [
    "soup.findAll('p', {'class': 'gl-jan'})"
   ]
  },
  {
   "cell_type": "markdown",
   "metadata": {},
   "source": [
    "## Scraping wikipedia paragraphs"
   ]
  },
  {
   "cell_type": "code",
   "execution_count": 3,
   "metadata": {},
   "outputs": [],
   "source": [
    "url = 'https://en.wikipedia.org/wiki/Data_science'\n",
    "page = requests.get(url).text\n",
    "soup = bs4.BeautifulSoup(page)"
   ]
  },
  {
   "cell_type": "code",
   "execution_count": 49,
   "metadata": {},
   "outputs": [
    {
     "data": {
      "text/plain": [
       "'Data science - Wikipedia'"
      ]
     },
     "execution_count": 49,
     "metadata": {},
     "output_type": "execute_result"
    }
   ],
   "source": [
    "soup.title.text"
   ]
  },
  {
   "cell_type": "code",
   "execution_count": 58,
   "metadata": {},
   "outputs": [
    {
     "data": {
      "text/plain": [
       "6864"
      ]
     },
     "execution_count": 58,
     "metadata": {},
     "output_type": "execute_result"
    }
   ],
   "source": [
    "para_tags = soup.findAll('p')\n",
    "\n",
    "para_texts = []\n",
    "for tag in para_tags:\n",
    "    para_texts.append(tag.text)\n",
    "article = ' '.join(para_texts)\n",
    "article = article.replace('\\n','')\n",
    "len(article)"
   ]
  },
  {
   "cell_type": "code",
   "execution_count": 65,
   "metadata": {},
   "outputs": [],
   "source": [
    "tables = soup.findAll('table')"
   ]
  },
  {
   "cell_type": "code",
   "execution_count": 68,
   "metadata": {},
   "outputs": [
    {
     "data": {
      "text/html": [
       "<div>\n",
       "<style scoped>\n",
       "    .dataframe tbody tr th:only-of-type {\n",
       "        vertical-align: middle;\n",
       "    }\n",
       "\n",
       "    .dataframe tbody tr th {\n",
       "        vertical-align: top;\n",
       "    }\n",
       "\n",
       "    .dataframe thead th {\n",
       "        text-align: right;\n",
       "    }\n",
       "</style>\n",
       "<table border=\"1\" class=\"dataframe\">\n",
       "  <thead>\n",
       "    <tr style=\"text-align: right;\">\n",
       "      <th></th>\n",
       "      <th>vteData</th>\n",
       "      <th>vteData.1</th>\n",
       "    </tr>\n",
       "  </thead>\n",
       "  <tbody>\n",
       "    <tr>\n",
       "      <th>0</th>\n",
       "      <td>Augmentation Analysis Archaeology Cleansing Co...</td>\n",
       "      <td>Augmentation Analysis Archaeology Cleansing Co...</td>\n",
       "    </tr>\n",
       "  </tbody>\n",
       "</table>\n",
       "</div>"
      ],
      "text/plain": [
       "                                             vteData  \\\n",
       "0  Augmentation Analysis Archaeology Cleansing Co...   \n",
       "\n",
       "                                           vteData.1  \n",
       "0  Augmentation Analysis Archaeology Cleansing Co...  "
      ]
     },
     "execution_count": 68,
     "metadata": {},
     "output_type": "execute_result"
    }
   ],
   "source": [
    "df_tables = pd.read_html(url)\n",
    "df_tables[1]"
   ]
  },
  {
   "cell_type": "code",
   "execution_count": 4,
   "metadata": {},
   "outputs": [
    {
     "name": "stdout",
     "output_type": "stream",
     "text": [
      "Requirement already satisfied: html5lib in c:\\users\\kathi\\.conda\\envs\\datascience\\lib\\site-packages (1.1)\n",
      "Requirement already satisfied: six>=1.9 in c:\\users\\kathi\\.conda\\envs\\datascience\\lib\\site-packages (from html5lib) (1.15.0)\n",
      "Requirement already satisfied: webencodings in c:\\users\\kathi\\.conda\\envs\\datascience\\lib\\site-packages (from html5lib) (0.5.1)\n"
     ]
    }
   ],
   "source": [
    "!pip install html5lib"
   ]
  },
  {
   "cell_type": "code",
   "execution_count": 5,
   "metadata": {},
   "outputs": [],
   "source": [
    "url = 'https://en.wikipedia.org/wiki/COVID-19_pandemic_by_country_and_territory'\n",
    "tables = pd.read_html(url, flavor='html5lib')"
   ]
  },
  {
   "cell_type": "code",
   "execution_count": 77,
   "metadata": {},
   "outputs": [],
   "source": [
    "df_cases = tables[6]"
   ]
  },
  {
   "cell_type": "code",
   "execution_count": 78,
   "metadata": {},
   "outputs": [],
   "source": [
    "df_cases.to_excel('corona-cases.xlsx', sheet_name='country-cases')"
   ]
  },
  {
   "cell_type": "code",
   "execution_count": null,
   "metadata": {},
   "outputs": [],
   "source": [
    "#!pip install xlsxwriter\n",
    "#writer = pd.ExcelWriter('corona-cases.xlsx', engine='xlswriter')\n",
    "#df_cases.to_excel(writer, sheet_name=\"country-cases\")"
   ]
  },
  {
   "cell_type": "markdown",
   "metadata": {},
   "source": [
    "## Naukri jobs"
   ]
  },
  {
   "cell_type": "code",
   "execution_count": 8,
   "metadata": {},
   "outputs": [],
   "source": [
    "url = 'https://www.naukri.com/data-science-jobs?k=data%20science'\n",
    "\n",
    "HEADERS = ({'User-Agent':\n",
    "            'Mozilla/5.0 (Windows NT 10.0; Win64; x64) AppleWebKit/537.36 (KHTML, like Gecko) Chrome/58.0.3029.110 Safari/537.36',\n",
    "            'Accept-Language': 'en-US, en;q=0.5'})\n",
    "\n",
    "page = requests.get(url, headers=HEADERS).text"
   ]
  }
 ],
 "metadata": {
  "kernelspec": {
   "display_name": "Python 3",
   "language": "python",
   "name": "python3"
  },
  "language_info": {
   "codemirror_mode": {
    "name": "ipython",
    "version": 3
   },
   "file_extension": ".py",
   "mimetype": "text/x-python",
   "name": "python",
   "nbconvert_exporter": "python",
   "pygments_lexer": "ipython3",
   "version": "3.8.5"
  }
 },
 "nbformat": 4,
 "nbformat_minor": 4
}
